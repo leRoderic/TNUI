{
 "cells": [
  {
   "cell_type": "code",
   "execution_count": 1,
   "metadata": {},
   "outputs": [],
   "source": [
    "import numpy as np\n",
    "import pandas as pd"
   ]
  },
  {
   "cell_type": "markdown",
   "metadata": {},
   "source": [
    "La següent funció retorna el següent càlcul element a element pel vector o matriu d'entrada,\n",
    "\n",
    "$$\\begin{equation} x^2+2x+1 \\end{equation}$$"
   ]
  },
  {
   "cell_type": "code",
   "execution_count": 2,
   "metadata": {},
   "outputs": [],
   "source": [
    "def calcular(x):\n",
    "    \"\"\"\n",
    "    Calcula, per cada element de `x` de forma individual, la funció\n",
    "    x^2+2x+1\n",
    "    \n",
    "    *NO* es poden fer servir bucles ni list-comprehensions\n",
    "    \n",
    "    :param x: np.array amb els elemnts a calcular\n",
    "    :return: np.array amb el càlcul fet\n",
    "    \"\"\"\n",
    "    op = lambda x: x**2 + 2*x + 1\n",
    "    v_op = np.vectorize(op) # Aplica la funció a tots els elements del array.\n",
    "    return v_op(x)"
   ]
  },
  {
   "cell_type": "code",
   "execution_count": 3,
   "metadata": {},
   "outputs": [
    {
     "name": "stdout",
     "output_type": "stream",
     "text": [
      "[[1.23503182 1.69178066]\n",
      " [3.8227119  2.57514637]]\n"
     ]
    }
   ],
   "source": [
    "if __name__ == '__main__':\n",
    "    print(calcular(np.random.random((2, 2))))"
   ]
  },
  {
   "cell_type": "markdown",
   "metadata": {},
   "source": [
    "Una altra forma de normalitzar vectors és fer que la seva mitja sigui 0 i la seva desviació estàndard sigui 1. Donat un vector $x$, el vector normalitzat $\\bar{x}$ es calcula\n",
    "\n",
    "$$\\bar{x} = \\frac{x - \\mu_x}{\\sigma_x}$$\n",
    "\n",
    "On $\\mu_x$ és la mitja i $\\sigma_x$ la desviació estandard"
   ]
  },
  {
   "cell_type": "code",
   "execution_count": 7,
   "metadata": {},
   "outputs": [],
   "source": [
    "def normalitzar(x):\n",
    "    \"\"\"\n",
    "    Normalitza el vector d'entrada `x` segons la definició\n",
    "    anterior.\n",
    "    \n",
    "    *NO* es poden fer servir bucles ni list-comprehensions\n",
    "    \n",
    "    :param x: np.array en forma de vector (unidimensional)\n",
    "    :return: np.array en forma de vector (unidimensional)\n",
    "    \"\"\"\n",
    "    mean = np.mean(x) # Calcula la mitja dels valors del vector.\n",
    "    sd = np.std(x) # Calcula la desviació estandard.\n",
    "    norm = lambda x: ((x - mean)/sd)\n",
    "    v_norm = np.vectorize(norm) # Aplica la funció a tots els valors del vector.\n",
    "    return v_norm(x)"
   ]
  },
  {
   "cell_type": "code",
   "execution_count": 8,
   "metadata": {},
   "outputs": [
    {
     "name": "stdout",
     "output_type": "stream",
     "text": [
      "[ 0.41225851 -0.25640253  1.23268969 -1.76215561  0.37360995]\n"
     ]
    }
   ],
   "source": [
    "if __name__ == '__main__':\n",
    "    print(normalitzar(np.random.random(5)))"
   ]
  },
  {
   "cell_type": "code",
   "execution_count": 11,
   "metadata": {},
   "outputs": [],
   "source": [
    "def normalitzar_matriu_per_columnes(x):\n",
    "    \"\"\"\n",
    "    Normalitza, segons la definició d'abans, les columnes de la\n",
    "    matriu de forma independent (cada columna es normalitza per la seva\n",
    "    pròpia mitja i desviació estàndard)\n",
    "    \n",
    "    *NO* es poden fer servir bucles ni list-comprehensions\n",
    "    \n",
    "    :param x: np.array en forma matricial (bidimensional)\n",
    "    :return: np.array en forma matricial (bidimensional)\n",
    "    \"\"\"\n",
    "    # La mitja i desviació estandard es calculan per columna.\n",
    "    mean = np.mean(x, axis = 0) \n",
    "    sd = np.std(x, axis = 0)\n",
    "    norm = lambda x: ((x - mean)/sd)\n",
    "    return norm(x)"
   ]
  },
  {
   "cell_type": "code",
   "execution_count": 12,
   "metadata": {},
   "outputs": [
    {
     "name": "stdout",
     "output_type": "stream",
     "text": [
      "[[-0.15803321  1.0226842  -0.06791835 -0.21769128  0.29939414]\n",
      " [ 0.03804301  0.71396551  0.58987797  0.89401957  1.27241772]\n",
      " [ 1.84708717 -0.11083392 -1.90647556  0.25416854 -1.13643463]\n",
      " [-1.05118543  0.21433298  0.85709093  0.88675486 -1.19366401]\n",
      " [-0.67591154 -1.84014877  0.52742502 -1.81725169  0.75828679]]\n"
     ]
    }
   ],
   "source": [
    "if __name__ == '__main__':\n",
    "    print(normalitzar_matriu_per_columnes(np.random.random((5, 5))))"
   ]
  },
  {
   "cell_type": "code",
   "execution_count": 15,
   "metadata": {},
   "outputs": [],
   "source": [
    "def normalitzar_matriu_per_files(x):\n",
    "    \"\"\"\n",
    "    Normalitza, segons la definició d'abans, les files de la\n",
    "    matriu de forma independent (cada fila es normalitza per la seva\n",
    "    pròpia mitja i desviació estàndard)\n",
    "    \n",
    "    *NO* es poden fer servir bucles ni list-comprehensions\n",
    "    \n",
    "    :param x: np.array en forma matricial (bidimensional)\n",
    "    :return: np.array en forma matricial (bidimensional)\n",
    "    \"\"\"\n",
    "    # El mateix que abans, pero es transposa la matriu per a fer la normalització per files.\n",
    "    x = np.transpose(x)\n",
    "    mean = np.mean(x, axis = 0)\n",
    "    sd = np.std(x, axis = 0)\n",
    "    norm = lambda x: ((x - mean)/sd)\n",
    "    # Es torna a transposar al retornar-la.\n",
    "    return np.transpose(norm(x))"
   ]
  },
  {
   "cell_type": "code",
   "execution_count": 16,
   "metadata": {},
   "outputs": [
    {
     "name": "stdout",
     "output_type": "stream",
     "text": [
      "[[ 0.12069716 -1.19748768  1.32702337 -1.06297467  0.81274183]\n",
      " [-0.87812183 -1.34985192  0.74257157  0.12943953  1.35596265]\n",
      " [ 0.75873043  1.55191311 -0.94542198 -0.99095811 -0.37426346]\n",
      " [-0.81090938  0.63064112 -0.68620308 -0.81144436  1.67791571]\n",
      " [-0.47784076  1.77024443 -1.00759629  0.39708448 -0.68189186]]\n"
     ]
    }
   ],
   "source": [
    "if __name__ == '__main__':\n",
    "    print(normalitzar_matriu_per_files(np.random.random((5, 5))))"
   ]
  },
  {
   "cell_type": "code",
   "execution_count": 19,
   "metadata": {},
   "outputs": [],
   "source": [
    "def calcular_mitja(x):\n",
    "    \"\"\"\n",
    "    Calcula la mitja del vector d'entrada `x`, però qualsevol element\n",
    "    NaN ha de ser tractat com si fos un 0. NO es pot modificar el\n",
    "    vector original que es passa per paràmetre   \n",
    "    \n",
    "    *NO* es poden fer servir bucles ni list-comprehensions\n",
    "    \n",
    "    :param x: np.array en forma vectorial (unidimensional)\n",
    "    :return: float amb la mitja\n",
    "    \"\"\"\n",
    "    # Substitueix els nan per 0, després fa la mitja i la retorna.\n",
    "    return np.mean(np.where(np.isnan(x), 0, x))"
   ]
  },
  {
   "cell_type": "code",
   "execution_count": 20,
   "metadata": {},
   "outputs": [
    {
     "name": "stdout",
     "output_type": "stream",
     "text": [
      "0.4633198710224719\n"
     ]
    }
   ],
   "source": [
    "if __name__ == '__main__':\n",
    "    vec = np.random.random(5)\n",
    "    vec[np.random.randint(0, 5)] = np.nan\n",
    "    print(calcular_mitja(vec))"
   ]
  },
  {
   "cell_type": "code",
   "execution_count": 21,
   "metadata": {},
   "outputs": [],
   "source": [
    "def crear_dataframe_1(usuari1, usuari2):\n",
    "    \"\"\"\n",
    "    Donada la informació de dos usuaris, `usuari1` i `usuari2`, crea un\n",
    "    pd.DataFrame que contingui cada un d'aquests usuaris com a una fila.\n",
    "    La primera fila ha de tenir per índex \"99\" i la segona \"88\", de tipus STR.\n",
    "    Les columnes han de tenir els següents noms:\n",
    "        \"Nom\", \"Cognom\", \"Data Registre\", \"Bitcoin\"\n",
    "        \n",
    "    :param usuari1: Llista (nativa de python) amb les dades del primer usuari\n",
    "    :param usuari2: Llista (nativa de python) amb les dades del segon usuari\n",
    "    :return: DataFrame amb les dades dels usuaris\n",
    "    \"\"\"\n",
    "    return pd.DataFrame([\n",
    "        usuari1, \n",
    "        usuari2],\n",
    "    columns=['Nom', 'Cognom', 'Data Registre', 'Bitcoin'], index=['99','88'])"
   ]
  },
  {
   "cell_type": "code",
   "execution_count": 22,
   "metadata": {},
   "outputs": [
    {
     "name": "stdout",
     "output_type": "stream",
     "text": [
      "       Nom  Cognom Data Registre  Bitcoin\n",
      "99    Mike  Strong    2012-02-03     99.0\n",
      "88  Thomas    Weak    2018-01-01      0.4\n"
     ]
    }
   ],
   "source": [
    "if __name__ == '__main__':\n",
    "    print(crear_dataframe_1(\n",
    "        ['Mike', 'Strong', '2012-02-03', 99],\n",
    "        ['Thomas', 'Weak', '2018-01-01', 0.4]\n",
    "    ))"
   ]
  },
  {
   "cell_type": "code",
   "execution_count": 23,
   "metadata": {},
   "outputs": [],
   "source": [
    "def crear_dataframe_2(x, exponent):\n",
    "    \"\"\"\n",
    "    Donat un vector (np.arrray) i un exponent màxim, crea un \n",
    "    DataFrame de pandas on cada columna és la potència\n",
    "    $x^i$ per cada $i$ entre 0 i `exponent` (incloits). Les columnes han de \n",
    "    tenir per nom \"x<i>\", on <i> és la potència\n",
    "    \n",
    "    Per exemple, donat ([1, 2, 3, 4], 2), crearà\n",
    "    x0 | x1 | x2\n",
    "    ------------\n",
    "    1    1    1 \n",
    "    1    2    4\n",
    "    1    3    9\n",
    "    1    4    16\n",
    "    \n",
    "    Els indexs de les files són 0, 1, ..., n; on n és el nombre d'elements\n",
    "    a x\n",
    "    \n",
    "    **Pots fer servir 1 sol bucle per iterar de 0 a exponent, cap més**\n",
    "    \n",
    "    :param x: np.array unidimensional amb les dades per calcular potències\n",
    "    :param exponent: enter >= 0, màxim exponent a fer servir\n",
    "    :return: Un DataFrame de pandas, tal i com s'especifica\n",
    "    \"\"\"\n",
    "    matr = []\n",
    "    col = [\"x\" + str(i) for i in range(exponent+1)]\n",
    "    for i in range(exponent + 1):\n",
    "        matr.append([a**i for a in x])\n",
    "    \n",
    "    return pd.DataFrame(np.asarray(matr).T,\n",
    "                       columns=col)"
   ]
  },
  {
   "cell_type": "code",
   "execution_count": 24,
   "metadata": {},
   "outputs": [
    {
     "name": "stdout",
     "output_type": "stream",
     "text": [
      "   x0  x1  x2  x3   x4    x5\n",
      "0   1   1   1   1    1     1\n",
      "1   1   2   4   8   16    32\n",
      "2   1   3   9  27   81   243\n",
      "3   1   4  16  64  256  1024\n"
     ]
    }
   ],
   "source": [
    "if __name__ == '__main__':\n",
    "    print(crear_dataframe_2(np.asarray([1, 2, 3, 4]), 5))"
   ]
  },
  {
   "cell_type": "code",
   "execution_count": 25,
   "metadata": {},
   "outputs": [],
   "source": [
    "def consultar_basic(df):\n",
    "    \"\"\"\n",
    "    Donat un DataFrame amb noms i notes, retorna solament\n",
    "    els noms d'aquells usuaris que tinguin un 5 o més\n",
    "    \n",
    "    :param df: DataFrame amb dos columnes \"Nom\", \"Nota\", amb 1 o més\n",
    "        files. \"Nom\" és una string i \"Nota\" un float\n",
    "    :return: Un pd.Series de Pandas o llista/tupla amb els noms \n",
    "        (i solament els noms) dels alumnes amb 5 o més\n",
    "    \"\"\"\n",
    "    return pd.Series(df.loc[df['Nota'] >= 5]['Nom'])"
   ]
  },
  {
   "cell_type": "code",
   "execution_count": 26,
   "metadata": {},
   "outputs": [
    {
     "name": "stdout",
     "output_type": "stream",
     "text": [
      "0    Antonio\n",
      "Name: Nom, dtype: object\n"
     ]
    }
   ],
   "source": [
    "if __name__ == '__main__':\n",
    "    print(consultar_basic(pd.DataFrame({\n",
    "        'Nom': ['Antonio', 'Mireia'],\n",
    "        'Nota': [5.1, 0.1]\n",
    "    })))"
   ]
  },
  {
   "cell_type": "code",
   "execution_count": 27,
   "metadata": {},
   "outputs": [],
   "source": [
    "def consultar_dificil(df):\n",
    "    \"\"\"\n",
    "    De totes les files d'un DataFrame, retorna l'índex d'aquella que tingui \n",
    "    el menor nombre de NaNs\n",
    "    \n",
    "    *Es pot fer sense bucles, consulta la documentació de Pandas, la cheetsheet\n",
    "    o stackoverflow*\n",
    "    \n",
    "    :param df: DataFrame sobre el que operar, les files contenen floats o NaN\n",
    "    :return: L'índex (int, ja ve donat) de la fila amb menys NaNs\n",
    "    \"\"\"\n",
    "    return df.T.isna().sum().idxmin()"
   ]
  },
  {
   "cell_type": "code",
   "execution_count": 28,
   "metadata": {},
   "outputs": [
    {
     "name": "stdout",
     "output_type": "stream",
     "text": [
      "1\n"
     ]
    }
   ],
   "source": [
    "if __name__ == '__main__':\n",
    "    print(consultar_dificil(pd.DataFrame([\n",
    "        [0, np.nan, 3.0, 2, np.nan],\n",
    "        [np.nan, 1, 2, 3, 4],\n",
    "        [np.nan, 0, 0, np.nan, np.nan]\n",
    "    ])))"
   ]
  }
 ],
 "metadata": {
  "kernelspec": {
   "display_name": "Python 3",
   "language": "python",
   "name": "python3"
  },
  "language_info": {
   "codemirror_mode": {
    "name": "ipython",
    "version": 3
   },
   "file_extension": ".py",
   "mimetype": "text/x-python",
   "name": "python",
   "nbconvert_exporter": "python",
   "pygments_lexer": "ipython3",
   "version": "3.7.1"
  }
 },
 "nbformat": 4,
 "nbformat_minor": 2
}
